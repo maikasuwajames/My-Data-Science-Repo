{
 "cells": [
  {
   "cell_type": "markdown",
   "id": "15c8e359-2591-4e1b-bac1-e82fc9ab9023",
   "metadata": {},
   "source": [
    "# DataScienceEcosystem"
   ]
  },
  {
   "cell_type": "markdown",
   "id": "23c733d4-5786-41ea-913f-5c2489fcf45a",
   "metadata": {},
   "source": [
    "# Data Science Tools and Ecosystem"
   ]
  },
  {
   "cell_type": "markdown",
   "id": "346c15e1-6d53-4bfd-afd3-2aafe56727e6",
   "metadata": {},
   "source": [
    "# In this notebook, Data Science Tools and Ecosystenm are summarized\n",
    "**Objectives:**\n",
    "\n",
    "- List popular languages used by Data Scientists\n",
    "- Commonly used libraries by Data Scientists\n",
    "- Examples of some arithmetic expressions using Python"
   ]
  },
  {
   "cell_type": "markdown",
   "id": "878b4d9c-2e7f-463a-b21e-e4ddb4d2f09f",
   "metadata": {},
   "source": [
    "# Some of the popular languages that Data Scientists use are:\n",
    "1. Julia\n",
    "2. Python\n",
    "3. R"
   ]
  },
  {
   "cell_type": "markdown",
   "id": "975abfd7-1ce8-4361-9e37-28e49eff2ff4",
   "metadata": {},
   "source": [
    "# Some of the commonly used libraries used by Data Scientists include:\n",
    "1. pandas\n",
    "2. numpy\n",
    "3. dplyr\n",
    "4. stringr\n",
    "5. ggplot\n",
    "6. matplotlib\n",
    "7. seaborn"
   ]
  },
  {
   "cell_type": "markdown",
   "id": "3bf8a4d5-f7b9-4310-add5-a8d91207f173",
   "metadata": {},
   "source": [
    "|Data Science Tools|\n",
    "|------------------|\n",
    "|Jupyter Notebooks|\n",
    "|Visual Studio Code|\n",
    "|R Studio|"
   ]
  },
  {
   "cell_type": "markdown",
   "id": "75d407f1-0b92-4a77-a8a3-1f399ada58de",
   "metadata": {},
   "source": [
    "### Below are a few examples of evaluating arithmetic expressions in python\n"
   ]
  },
  {
   "cell_type": "code",
   "execution_count": 3,
   "id": "22935f40-3698-4261-a354-8da59cc3a8ba",
   "metadata": {},
   "outputs": [
    {
     "data": {
      "text/plain": [
       "17"
      ]
     },
     "execution_count": 3,
     "metadata": {},
     "output_type": "execute_result"
    }
   ],
   "source": [
    "# This is a simple arithmetic expression to multiply and add integers\n",
    "(3*4)+5"
   ]
  },
  {
   "cell_type": "code",
   "execution_count": 5,
   "id": "4e6a4e13-4006-453d-8e29-caee3e1d3d75",
   "metadata": {},
   "outputs": [
    {
     "data": {
      "text/plain": [
       "3.3333333333333335"
      ]
     },
     "execution_count": 5,
     "metadata": {},
     "output_type": "execute_result"
    }
   ],
   "source": [
    "# This will convert 200 minutes to hours by dividing by 60\n",
    "200/60"
   ]
  },
  {
   "cell_type": "markdown",
   "id": "a49e0603-794a-490d-ba60-c1fe80764eb0",
   "metadata": {},
   "source": [
    "## Author\n",
    "James Vudir Maikasuwa"
   ]
  },
  {
   "cell_type": "code",
   "execution_count": null,
   "id": "42671275-8501-4646-9ad1-1294a4f40fd5",
   "metadata": {},
   "outputs": [],
   "source": []
  }
 ],
 "metadata": {
  "kernelspec": {
   "display_name": "Python 3 (ipykernel)",
   "language": "python",
   "name": "python3"
  },
  "language_info": {
   "codemirror_mode": {
    "name": "ipython",
    "version": 3
   },
   "file_extension": ".py",
   "mimetype": "text/x-python",
   "name": "python",
   "nbconvert_exporter": "python",
   "pygments_lexer": "ipython3",
   "version": "3.11.3"
  }
 },
 "nbformat": 4,
 "nbformat_minor": 5
}
